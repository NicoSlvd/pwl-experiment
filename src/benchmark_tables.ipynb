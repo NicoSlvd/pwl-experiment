{
 "cells": [
  {
   "cell_type": "code",
   "execution_count": 1,
   "id": "66f46620",
   "metadata": {},
   "outputs": [],
   "source": [
    "import pandas as pd\n",
    "import os"
   ]
  },
  {
   "cell_type": "markdown",
   "id": "d29a5fd4",
   "metadata": {},
   "source": [
    "# Benchmarks"
   ]
  },
  {
   "cell_type": "code",
   "execution_count": 5,
   "id": "ad9bd6d1",
   "metadata": {},
   "outputs": [
    {
     "name": "stdout",
     "output_type": "stream",
     "text": [
      "Results file not found for LPMC, RUMBoost, linear, monotone=True\n",
      "Results file not found for LPMC, RUMBoost, linear, monotone=False\n"
     ]
    }
   ],
   "source": [
    "path_to_results = os.getcwd() + \"/results/\"\n",
    "\n",
    "\n",
    "index_pd = pd.MultiIndex.from_tuples(\n",
    "    [\n",
    "        (\"RUMBoost\", \"Constant\"),\n",
    "        (\"RUMBoost\", \"Linear\"),\n",
    "        # (\"RUMBoost\", \"Cubic\"),\n",
    "        (\"RUMBoost\", \"Constant + linear\"),\n",
    "        # (\"RUMBoost\", \"Constant + cubic\"),\n",
    "        # (\"APLR\", \"Linear\"),\n",
    "    ]\n",
    ")\n",
    "\n",
    "columns_pd = pd.MultiIndex.from_product([(\"LPMC\", \"SwissMetro\"), (\"Monotonic\", \"Non-monotonic\")])\n",
    "\n",
    "benchmark_table_test = pd.DataFrame({},\n",
    "    columns=columns_pd,\n",
    "    index=index_pd,\n",
    ")\n",
    "benchmark_table_train = pd.DataFrame({},\n",
    "    columns=columns_pd,\n",
    "    index=index_pd,\n",
    ")\n",
    "benchmark_table_ct = pd.DataFrame({},\n",
    "    columns=columns_pd,\n",
    "    index=index_pd,\n",
    ")\n",
    "\n",
    "for model in [\"RUMBoost\"]:#, \"APLR\"]:\n",
    "    for monotone in [\"True\", \"False\"]:\n",
    "        for model_type in [\"constant\",\"linear\", \"constant_linear\"]:#,\"linear\", \"cubic\",\"constant_cubic\"]:\n",
    "            for dataset in [\"LPMC\", \"SwissMetro\"]:\n",
    "                if model == \"APLR\" and model_type != \"linear\":\n",
    "                    continue\n",
    "                try:\n",
    "                    results = pd.read_csv(\n",
    "                        f\"{path_to_results}{dataset}/{model}/{model_type}/mono{monotone}/results_True.csv\"\n",
    "                    )\n",
    "                except FileNotFoundError:\n",
    "                    print(f\"Results file not found for {dataset}, {model}, {model_type}, monotone={monotone}\")\n",
    "                    continue\n",
    "                monotone_c = \"Monotonic\" if monotone == \"True\" else \"Non-monotonic\"\n",
    "                model_type_c = \"Constant\" if model_type == \"constant\" else \"Linear\" if model_type == \"linear\" else \"Cubic\" if model_type == \"cubic\" else \"Constant + linear\" if model_type == \"constant_linear\" else \"Constant + cubic\"\n",
    "                benchmark_table_test.loc[(model, model_type_c), (dataset, monotone_c)] = results[\"loss_test\"].values[0].round(4)\n",
    "                benchmark_table_train.loc[(model, model_type_c), (dataset, monotone_c)] = results[\"train_loss\"].values[0].round(4)\n",
    "                benchmark_table_ct.loc[(model, model_type_c), (dataset, monotone_c)] = results[\"train_time\"].values[0].round(4)\n"
   ]
  },
  {
   "cell_type": "code",
   "execution_count": 6,
   "id": "8933b279",
   "metadata": {},
   "outputs": [
    {
     "data": {
      "text/html": [
       "<div>\n",
       "<style scoped>\n",
       "    .dataframe tbody tr th:only-of-type {\n",
       "        vertical-align: middle;\n",
       "    }\n",
       "\n",
       "    .dataframe tbody tr th {\n",
       "        vertical-align: top;\n",
       "    }\n",
       "\n",
       "    .dataframe thead tr th {\n",
       "        text-align: left;\n",
       "    }\n",
       "</style>\n",
       "<table border=\"1\" class=\"dataframe\">\n",
       "  <thead>\n",
       "    <tr>\n",
       "      <th></th>\n",
       "      <th></th>\n",
       "      <th colspan=\"2\" halign=\"left\">LPMC</th>\n",
       "      <th colspan=\"2\" halign=\"left\">SwissMetro</th>\n",
       "    </tr>\n",
       "    <tr>\n",
       "      <th></th>\n",
       "      <th></th>\n",
       "      <th>Monotonic</th>\n",
       "      <th>Non-monotonic</th>\n",
       "      <th>Monotonic</th>\n",
       "      <th>Non-monotonic</th>\n",
       "    </tr>\n",
       "  </thead>\n",
       "  <tbody>\n",
       "    <tr>\n",
       "      <th rowspan=\"3\" valign=\"top\">RUMBoost</th>\n",
       "      <th>Constant</th>\n",
       "      <td>0.6741</td>\n",
       "      <td>0.6745</td>\n",
       "      <td>0.7675</td>\n",
       "      <td>0.7758</td>\n",
       "    </tr>\n",
       "    <tr>\n",
       "      <th>Linear</th>\n",
       "      <td>NaN</td>\n",
       "      <td>NaN</td>\n",
       "      <td>0.8387</td>\n",
       "      <td>0.8345</td>\n",
       "    </tr>\n",
       "    <tr>\n",
       "      <th>Constant + linear</th>\n",
       "      <td>0.6729</td>\n",
       "      <td>0.6732</td>\n",
       "      <td>0.7675</td>\n",
       "      <td>0.7759</td>\n",
       "    </tr>\n",
       "  </tbody>\n",
       "</table>\n",
       "</div>"
      ],
      "text/plain": [
       "                                LPMC               SwissMetro              \n",
       "                           Monotonic Non-monotonic  Monotonic Non-monotonic\n",
       "RUMBoost Constant             0.6741        0.6745     0.7675        0.7758\n",
       "         Linear                  NaN           NaN     0.8387        0.8345\n",
       "         Constant + linear    0.6729        0.6732     0.7675        0.7759"
      ]
     },
     "execution_count": 6,
     "metadata": {},
     "output_type": "execute_result"
    }
   ],
   "source": [
    "benchmark_table_test"
   ]
  },
  {
   "cell_type": "code",
   "execution_count": 7,
   "id": "7d4bfc6a",
   "metadata": {},
   "outputs": [],
   "source": [
    "benchmark_table_test.to_latex(\n",
    "    f\"{path_to_results}benchmark_table_test.tex\",)"
   ]
  },
  {
   "cell_type": "code",
   "execution_count": 8,
   "id": "a0cab678",
   "metadata": {},
   "outputs": [
    {
     "data": {
      "text/html": [
       "<div>\n",
       "<style scoped>\n",
       "    .dataframe tbody tr th:only-of-type {\n",
       "        vertical-align: middle;\n",
       "    }\n",
       "\n",
       "    .dataframe tbody tr th {\n",
       "        vertical-align: top;\n",
       "    }\n",
       "\n",
       "    .dataframe thead tr th {\n",
       "        text-align: left;\n",
       "    }\n",
       "</style>\n",
       "<table border=\"1\" class=\"dataframe\">\n",
       "  <thead>\n",
       "    <tr>\n",
       "      <th></th>\n",
       "      <th></th>\n",
       "      <th colspan=\"2\" halign=\"left\">LPMC</th>\n",
       "      <th colspan=\"2\" halign=\"left\">SwissMetro</th>\n",
       "    </tr>\n",
       "    <tr>\n",
       "      <th></th>\n",
       "      <th></th>\n",
       "      <th>Monotonic</th>\n",
       "      <th>Non-monotonic</th>\n",
       "      <th>Monotonic</th>\n",
       "      <th>Non-monotonic</th>\n",
       "    </tr>\n",
       "  </thead>\n",
       "  <tbody>\n",
       "    <tr>\n",
       "      <th rowspan=\"2\" valign=\"top\">RUMBoost</th>\n",
       "      <th>Constant</th>\n",
       "      <td>0.6397</td>\n",
       "      <td>0.6359</td>\n",
       "      <td>0.6704</td>\n",
       "      <td>0.6373</td>\n",
       "    </tr>\n",
       "    <tr>\n",
       "      <th>Constant + linear</th>\n",
       "      <td>0.6405</td>\n",
       "      <td>0.6363</td>\n",
       "      <td>0.6712</td>\n",
       "      <td>0.6326</td>\n",
       "    </tr>\n",
       "  </tbody>\n",
       "</table>\n",
       "</div>"
      ],
      "text/plain": [
       "                                LPMC               SwissMetro              \n",
       "                           Monotonic Non-monotonic  Monotonic Non-monotonic\n",
       "RUMBoost Constant             0.6397        0.6359     0.6704        0.6373\n",
       "         Constant + linear    0.6405        0.6363     0.6712        0.6326"
      ]
     },
     "execution_count": 8,
     "metadata": {},
     "output_type": "execute_result"
    }
   ],
   "source": [
    "benchmark_table_train"
   ]
  },
  {
   "cell_type": "code",
   "execution_count": 9,
   "id": "13454e91",
   "metadata": {},
   "outputs": [
    {
     "data": {
      "text/html": [
       "<div>\n",
       "<style scoped>\n",
       "    .dataframe tbody tr th:only-of-type {\n",
       "        vertical-align: middle;\n",
       "    }\n",
       "\n",
       "    .dataframe tbody tr th {\n",
       "        vertical-align: top;\n",
       "    }\n",
       "\n",
       "    .dataframe thead tr th {\n",
       "        text-align: left;\n",
       "    }\n",
       "</style>\n",
       "<table border=\"1\" class=\"dataframe\">\n",
       "  <thead>\n",
       "    <tr>\n",
       "      <th></th>\n",
       "      <th></th>\n",
       "      <th colspan=\"2\" halign=\"left\">LPMC</th>\n",
       "      <th colspan=\"2\" halign=\"left\">SwissMetro</th>\n",
       "    </tr>\n",
       "    <tr>\n",
       "      <th></th>\n",
       "      <th></th>\n",
       "      <th>Monotonic</th>\n",
       "      <th>Non-monotonic</th>\n",
       "      <th>Monotonic</th>\n",
       "      <th>Non-monotonic</th>\n",
       "    </tr>\n",
       "  </thead>\n",
       "  <tbody>\n",
       "    <tr>\n",
       "      <th rowspan=\"2\" valign=\"top\">RUMBoost</th>\n",
       "      <th>Constant</th>\n",
       "      <td>166.7323</td>\n",
       "      <td>226.9962</td>\n",
       "      <td>36.1314</td>\n",
       "      <td>336.7697</td>\n",
       "    </tr>\n",
       "    <tr>\n",
       "      <th>Constant + linear</th>\n",
       "      <td>4367.3497</td>\n",
       "      <td>6527.3914</td>\n",
       "      <td>75.476</td>\n",
       "      <td>778.45</td>\n",
       "    </tr>\n",
       "  </tbody>\n",
       "</table>\n",
       "</div>"
      ],
      "text/plain": [
       "                                 LPMC               SwissMetro              \n",
       "                            Monotonic Non-monotonic  Monotonic Non-monotonic\n",
       "RUMBoost Constant            166.7323      226.9962    36.1314      336.7697\n",
       "         Constant + linear  4367.3497     6527.3914     75.476        778.45"
      ]
     },
     "execution_count": 9,
     "metadata": {},
     "output_type": "execute_result"
    }
   ],
   "source": [
    "benchmark_table_ct"
   ]
  },
  {
   "cell_type": "code",
   "execution_count": null,
   "id": "3ddb5c42",
   "metadata": {},
   "outputs": [],
   "source": []
  }
 ],
 "metadata": {
  "kernelspec": {
   "display_name": "old_rumboost",
   "language": "python",
   "name": "python3"
  },
  "language_info": {
   "codemirror_mode": {
    "name": "ipython",
    "version": 3
   },
   "file_extension": ".py",
   "mimetype": "text/x-python",
   "name": "python",
   "nbconvert_exporter": "python",
   "pygments_lexer": "ipython3",
   "version": "3.11.0"
  }
 },
 "nbformat": 4,
 "nbformat_minor": 5
}
