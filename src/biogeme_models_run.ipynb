{
 "cells": [
  {
   "cell_type": "code",
   "execution_count": null,
   "id": "6716f2bb",
   "metadata": {},
   "outputs": [],
   "source": [
    "import sys\n",
    "\n",
    "sys.path.append(\"../\")"
   ]
  },
  {
   "cell_type": "code",
   "execution_count": null,
   "id": "9946b366",
   "metadata": {},
   "outputs": [
    {
     "name": "stdout",
     "output_type": "stream",
     "text": [
      "The autoreload extension is already loaded. To reload it, use:\n",
      "  %reload_ext autoreload\n"
     ]
    }
   ],
   "source": [
    "%load_ext autoreload\n",
    "%autoreload 2"
   ]
  },
  {
   "cell_type": "markdown",
   "id": "ea73cfda",
   "metadata": {},
   "source": [
    "# Assisted specification"
   ]
  },
  {
   "cell_type": "markdown",
   "id": "1cf2fb9a",
   "metadata": {},
   "source": [
    "## SwissMetro"
   ]
  },
  {
   "cell_type": "code",
   "execution_count": null,
   "id": "6c59f023",
   "metadata": {},
   "outputs": [],
   "source": [
    "import pandas as pd\n",
    "import copy\n",
    "import os\n",
    "from scipy.special import softmax\n",
    "from sklearn.preprocessing import MinMaxScaler\n",
    "\n",
    "from rumboost.metrics import cross_entropy\n",
    "from rumboost.datasets import load_preprocess_SwissMetro\n",
    "from rumboost.post_process import (\n",
    "    estimate_dcm_with_assisted_spec,\n",
    "    predict_with_assisted_spec,\n",
    ")\n",
    "from rumboost.rumboost import RUMBoost\n",
    "\n",
    "from helper import set_all_seeds\n",
    "from constants import (\n",
    "    sm_bin_vars,\n",
    "    sm_cont_vars,\n",
    "    sm_structure,\n",
    "    sm_monotone_constraints,\n",
    "    PATH_TO_DATA,\n",
    ")\n",
    "from utils import transform_mono_cons, transform_vars_list, augment_dataset\n",
    "\n",
    "\n",
    "path = (\n",
    "    os.getcwd() + \"/results/SwissMetro/RUMBoost/linear/monoTrue/model_True_10bins.json\"\n",
    ")\n",
    "\n",
    "sm_model_fully_trained = RUMBoost(model_file=path)"
   ]
  },
  {
   "cell_type": "code",
   "execution_count": null,
   "id": "0cc6e07f",
   "metadata": {},
   "outputs": [],
   "source": [
    "dataset_loader = {\n",
    "    \"SwissMetro\": load_preprocess_SwissMetro,\n",
    "}\n",
    "\n",
    "dataset_vars = {\n",
    "    \"SwissMetro\": (sm_bin_vars, sm_cont_vars),\n",
    "}\n",
    "\n",
    "dataset_structure = {\n",
    "    \"SwissMetro\": sm_structure,\n",
    "}\n",
    "dataset_monotone_constraints = {\n",
    "    \"SwissMetro\": sm_monotone_constraints,\n",
    "}\n",
    "dataset_num_classes = {\n",
    "    \"LPMC\": 4,\n",
    "    \"SwissMetro\": 3,\n",
    "}\n",
    "\n",
    "# set the random seed for reproducibility\n",
    "set_all_seeds(42)\n",
    "\n",
    "data_train, data_test, folds = dataset_loader[\"SwissMetro\"](path=PATH_TO_DATA)\n",
    "\n",
    "target = \"choice\"\n",
    "y_train = data_train[target]\n",
    "y_test = data_test[target]\n",
    "\n",
    "bin_vars, cont_vars = dataset_vars[\"SwissMetro\"]\n",
    "\n",
    "X_train = augment_dataset(data_train, cont_vars, type=\"constant_linear\")\n",
    "X_test = augment_dataset(data_test, cont_vars, type=\"constant_linear\")\n",
    "X_train_bin = augment_dataset(data_train, bin_vars, type=\"constant\")\n",
    "X_test_bin = augment_dataset(data_test, bin_vars, type=\"constant\")\n",
    "X_train = pd.concat([X_train, X_train_bin], axis=1)\n",
    "X_test = pd.concat([X_test, X_test_bin], axis=1)\n",
    "\n",
    "# transform the monotone constraints to a specific format\n",
    "monotone_constraints = transform_mono_cons(\n",
    "    dataset_monotone_constraints[\"SwissMetro\"],\n",
    "    \"constant_linear\",\n",
    "    cont_vars,\n",
    ")\n",
    "# binary variables are never boosted from parameter space\n",
    "new_bin_vars = transform_vars_list(bin_vars, \"constant\", bin_vars)\n",
    "bin_vars = new_bin_vars\n",
    "\n",
    "structure = copy.deepcopy(dataset_structure[\"SwissMetro\"])\n",
    "for u in structure:\n",
    "    structure[u] = (\n",
    "        transform_vars_list(structure[u], \"constant_linear\", cont_vars) + bin_vars\n",
    "    )\n",
    "new_cont_vars = transform_vars_list(cont_vars, \"constant_linear\", cont_vars)\n",
    "cont_vars = new_cont_vars\n",
    "\n",
    "num_classes = dataset_num_classes[\"SwissMetro\"]\n",
    "\n",
    "# scale the features\n",
    "scaler = MinMaxScaler()\n",
    "X_train_scaled = pd.DataFrame(scaler.fit_transform(X_train), columns=X_train.columns)\n",
    "X_test_scaled = pd.DataFrame(scaler.transform(X_test), columns=X_test.columns)"
   ]
  },
  {
   "cell_type": "markdown",
   "id": "098f5b44",
   "metadata": {},
   "source": [
    "### Assisted-specified piece-wise linear DCM"
   ]
  },
  {
   "cell_type": "code",
   "execution_count": null,
   "id": "155e5e92",
   "metadata": {},
   "outputs": [],
   "source": [
    "results = estimate_dcm_with_assisted_spec(\n",
    "    X_train_scaled, y_train.reset_index(drop=True), sm_model_fully_trained\n",
    ")"
   ]
  },
  {
   "cell_type": "code",
   "execution_count": null,
   "id": "8d556898",
   "metadata": {},
   "outputs": [],
   "source": [
    "from rumboost.post_process import (\n",
    "    predict_with_assisted_spec,\n",
    ")\n",
    "\n",
    "preds = predict_with_assisted_spec(\n",
    "    X_train_scaled.drop(columns=[\"choice\"]),\n",
    "    X_test_scaled,\n",
    "    y_train.reset_index(drop=True),\n",
    "    y_test.reset_index(drop=True),\n",
    "    sm_model_fully_trained,\n",
    "    results.get_beta_values(),\n",
    "    utilities=True,\n",
    ")"
   ]
  },
  {
   "cell_type": "code",
   "execution_count": null,
   "id": "94942fd0",
   "metadata": {},
   "outputs": [
    {
     "name": "stdout",
     "output_type": "stream",
     "text": [
      "0.7672599666764388\n"
     ]
    }
   ],
   "source": [
    "real_preds = softmax(preds, axis=1)\n",
    "print(cross_entropy(real_preds, y_test.astype(int).values))"
   ]
  },
  {
   "cell_type": "markdown",
   "id": "6183d715",
   "metadata": {},
   "source": [
    "### MNL for comparison"
   ]
  },
  {
   "cell_type": "code",
   "execution_count": null,
   "id": "b20f7c88",
   "metadata": {},
   "outputs": [],
   "source": [
    "from simple_mnl import SwissMetro_normalised"
   ]
  },
  {
   "cell_type": "code",
   "execution_count": null,
   "id": "e89cba3b",
   "metadata": {},
   "outputs": [],
   "source": [
    "new_df = X_train_scaled.copy().reset_index(drop=True)\n",
    "new_df[\"choice\"] = y_train.reset_index(drop=True)\n",
    "swissmetro = SwissMetro_normalised(new_df)\n",
    "\n",
    "results_s = swissmetro.estimate()\n",
    "betas_l = results_s.get_beta_values()"
   ]
  },
  {
   "cell_type": "code",
   "execution_count": null,
   "id": "6a5ce3f8",
   "metadata": {},
   "outputs": [
    {
     "data": {
      "text/plain": [
       "log_like   -0.794958\n",
       "dtype: float64"
      ]
     },
     "metadata": {},
     "output_type": "display_data"
    }
   ],
   "source": [
    "new_df_test = X_test_scaled.copy().reset_index(drop=True)\n",
    "new_df_test[\"choice\"] = y_test.reset_index(drop=True)\n",
    "biogeme_test = SwissMetro_normalised(new_df_test, for_prob=False)\n",
    "\n",
    "biogeme_test.simulate(results_s.get_beta_values()).mean()"
   ]
  },
  {
   "cell_type": "markdown",
   "id": "fcafa5c4",
   "metadata": {},
   "source": [
    "## LPMC"
   ]
  },
  {
   "cell_type": "code",
   "execution_count": null,
   "id": "b09c5d1d",
   "metadata": {},
   "outputs": [],
   "source": [
    "import pandas as pd\n",
    "import copy\n",
    "import os\n",
    "from scipy.special import softmax\n",
    "from sklearn.preprocessing import MinMaxScaler\n",
    "\n",
    "from rumboost.metrics import cross_entropy\n",
    "from rumboost.datasets import load_preprocess_LPMC\n",
    "from rumboost.post_process import (\n",
    "    estimate_dcm_with_assisted_spec,\n",
    "    predict_with_assisted_spec,\n",
    ")\n",
    "from rumboost.rumboost import RUMBoost\n",
    "\n",
    "from helper import set_all_seeds\n",
    "from constants import (\n",
    "    lpmc_bin_vars,\n",
    "    lpmc_cont_vars,\n",
    "    lpmc_mono_cons,\n",
    "    lpmc_structure,\n",
    "    PATH_TO_DATA,\n",
    ")\n",
    "from utils import transform_mono_cons, transform_vars_list, augment_dataset\n",
    "\n",
    "\n",
    "path = (\n",
    "    os.getcwd() + \"/results/LPMC/RUMBoost/linear/monoTrue/model_True_10bins.json\"\n",
    ")\n",
    "\n",
    "lpmc_model_fully_trained = RUMBoost(model_file=path)"
   ]
  },
  {
   "cell_type": "code",
   "execution_count": null,
   "id": "4d4e480a",
   "metadata": {},
   "outputs": [],
   "source": [
    "dataset_loader = {\n",
    "    \"LPMC\": load_preprocess_SwissMetro,\n",
    "}\n",
    "\n",
    "dataset_vars = {\n",
    "    \"LPMC\": (lpmc_bin_vars, lpmc_cont_vars),\n",
    "}\n",
    "\n",
    "dataset_structure = {\n",
    "    \"LPMC\": lpmc_structure,\n",
    "}\n",
    "dataset_monotone_constraints = {\n",
    "    \"LPMC\": lpmc_mono_cons,\n",
    "}\n",
    "dataset_num_classes = {\n",
    "    \"LPMC\": 4,\n",
    "    \"SwissMetro\": 3,\n",
    "}\n",
    "\n",
    "# set the random seed for reproducibility\n",
    "set_all_seeds(42)\n",
    "\n",
    "data_train, data_test, folds = dataset_loader[\"LPMC\"](path=PATH_TO_DATA)\n",
    "\n",
    "target = \"choice\"\n",
    "y_train = data_train[target]\n",
    "y_test = data_test[target]\n",
    "\n",
    "bin_vars, cont_vars = dataset_vars[\"LPMC\"]\n",
    "\n",
    "X_train = augment_dataset(data_train, cont_vars, type=\"constant_linear\")\n",
    "X_test = augment_dataset(data_test, cont_vars, type=\"constant_linear\")\n",
    "X_train_bin = augment_dataset(data_train, bin_vars, type=\"constant\")\n",
    "X_test_bin = augment_dataset(data_test, bin_vars, type=\"constant\")\n",
    "X_train = pd.concat([X_train, X_train_bin], axis=1)\n",
    "X_test = pd.concat([X_test, X_test_bin], axis=1)\n",
    "\n",
    "# transform the monotone constraints to a specific format\n",
    "monotone_constraints = transform_mono_cons(\n",
    "    dataset_monotone_constraints[\"LPMC\"],\n",
    "    \"constant_linear\",\n",
    "    cont_vars,\n",
    ")\n",
    "# binary variables are never boosted from parameter space\n",
    "new_bin_vars = transform_vars_list(bin_vars, \"constant\", bin_vars)\n",
    "bin_vars = new_bin_vars\n",
    "\n",
    "structure = copy.deepcopy(dataset_structure[\"LPMC\"])\n",
    "for u in structure:\n",
    "    structure[u] = (\n",
    "        transform_vars_list(structure[u], \"constant_linear\", cont_vars) + bin_vars\n",
    "    )\n",
    "new_cont_vars = transform_vars_list(cont_vars, \"constant_linear\", cont_vars)\n",
    "cont_vars = new_cont_vars\n",
    "\n",
    "num_classes = dataset_num_classes[\"LPMC\"]\n",
    "\n",
    "# scale the features\n",
    "scaler = MinMaxScaler()\n",
    "X_train_scaled = pd.DataFrame(scaler.fit_transform(X_train), columns=X_train.columns)\n",
    "X_test_scaled = pd.DataFrame(scaler.transform(X_test), columns=X_test.columns)"
   ]
  },
  {
   "cell_type": "markdown",
   "id": "e7103d16",
   "metadata": {},
   "source": [
    "### Assisted-specified piece-wise linear DCM"
   ]
  },
  {
   "cell_type": "code",
   "execution_count": null,
   "id": "6bd7e521",
   "metadata": {},
   "outputs": [],
   "source": [
    "results = estimate_dcm_with_assisted_spec(\n",
    "    X_train_scaled, y_train.reset_index(drop=True), lpmc_model_fully_trained\n",
    ")"
   ]
  },
  {
   "cell_type": "code",
   "execution_count": null,
   "id": "0bc8727f",
   "metadata": {},
   "outputs": [],
   "source": [
    "from rumboost.post_process import (\n",
    "    predict_with_assisted_spec,\n",
    ")\n",
    "\n",
    "preds = predict_with_assisted_spec(\n",
    "    X_train_scaled.drop(columns=[\"choice\"]),\n",
    "    X_test_scaled,\n",
    "    y_train.reset_index(drop=True),\n",
    "    y_test.reset_index(drop=True),\n",
    "    lpmc_model_fully_trained,\n",
    "    results.get_beta_values(),\n",
    "    utilities=True,\n",
    ")"
   ]
  },
  {
   "cell_type": "code",
   "execution_count": null,
   "id": "faba42e6",
   "metadata": {},
   "outputs": [
    {
     "name": "stdout",
     "output_type": "stream",
     "text": [
      "0.7672599666764388\n"
     ]
    }
   ],
   "source": [
    "real_preds = softmax(preds, axis=1)\n",
    "print(cross_entropy(real_preds, y_test.astype(int).values))"
   ]
  }
 ],
 "metadata": {
  "language_info": {
   "name": "python"
  }
 },
 "nbformat": 4,
 "nbformat_minor": 5
}
